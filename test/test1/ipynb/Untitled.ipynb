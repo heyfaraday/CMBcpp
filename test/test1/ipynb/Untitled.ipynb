{
 "cells": [
  {
   "cell_type": "code",
   "execution_count": 1,
   "metadata": {
    "collapsed": true
   },
   "outputs": [],
   "source": [
    "import sys\n",
    "sys.path.append(\"../../../\")"
   ]
  },
  {
   "cell_type": "code",
   "execution_count": 2,
   "metadata": {},
   "outputs": [],
   "source": [
    "from pylib import vis"
   ]
  },
  {
   "cell_type": "code",
   "execution_count": 3,
   "metadata": {},
   "outputs": [
    {
     "name": "stdout",
     "output_type": "stream",
     "text": [
      "Help on function mollview in module pylib.vis:\n",
      "\n",
      "mollview(map, coord='G', xsize=2000, title='', min_value=0.0, max_value=0.0, cbar=True, notext=False, norm='hist', flag_out=False, name_out='')\n",
      "    map - healpix 1-d map\n",
      "    coord - 'G', ['G', 'E'] or ['G', 'C']\n",
      "    xsize -\n",
      "    title -\n",
      "    min_value -\n",
      "    max_value -\n",
      "    cbar -\n",
      "    notext -\n",
      "    norm - None (linear), 'hist' or 'log'\n",
      "    flag_out -\n",
      "    name_out -\n",
      "\n"
     ]
    }
   ],
   "source": [
    "help(vis.mollview)"
   ]
  },
  {
   "cell_type": "code",
   "execution_count": null,
   "metadata": {
    "collapsed": true
   },
   "outputs": [],
   "source": []
  }
 ],
 "metadata": {
  "kernelspec": {
   "display_name": "Python 3",
   "language": "python",
   "name": "python3"
  },
  "language_info": {
   "codemirror_mode": {
    "name": "ipython",
    "version": 3
   },
   "file_extension": ".py",
   "mimetype": "text/x-python",
   "name": "python",
   "nbconvert_exporter": "python",
   "pygments_lexer": "ipython3",
   "version": "3.6.1"
  }
 },
 "nbformat": 4,
 "nbformat_minor": 2
}
